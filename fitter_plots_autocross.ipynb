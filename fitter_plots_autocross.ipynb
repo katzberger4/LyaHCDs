{
 "cells": [
  {
   "cell_type": "code",
   "execution_count": null,
   "id": "b0970596-cf52-4576-9add-e8f7dc8e35f1",
   "metadata": {},
   "outputs": [],
   "source": [
    "import numpy as np\n",
    "import matplotlib.pyplot as plt\n",
    "import matplotlib.cm as cmaps\n",
    "import scipy.stats as stats\n",
    "import scipy as sp\n",
    "\n",
    "import getdist\n",
    "from getdist import plots, MCSamples, loadMCSamples\n",
    "from astropy.io import fits\n",
    "from vega import VegaInterface, Wedge\n",
    "from vega.parameters.param_utils import build_names\n",
    "%matplotlib inline"
   ]
  },
  {
   "cell_type": "code",
   "execution_count": null,
   "id": "f9e95207-9782-4477-9d4c-ed799c741bc7",
   "metadata": {},
   "outputs": [],
   "source": [
    "def make_chain(names, mean, cov):\n",
    "    labels = build_names(names)\n",
    "    gaussian_samples = np.random.multivariate_normal(mean, cov, size=1000000)\n",
    "    samples = MCSamples(samples=gaussian_samples, names = names, labels = [labels[name] for name in names])\n",
    "    return samples\n",
    "\n",
    "def get_res(path):\n",
    "    hdul = fits.open(path)\n",
    "    res = {}\n",
    "    res['chisq'] = hdul[2].header['FVAL']\n",
    "    res['mean'] = [val for val in hdul[2].data['values']]\n",
    "    res['cov'] = hdul[2].data['covariance']\n",
    "    npars = len(hdul[2].data['names'])\n",
    "    res['pars'] = {hdul[2].data['names'][i]:{'val':hdul[2].data['values'][i], 'err':hdul[2].data['errors'][i]} for i in range(npars)}\n",
    "    \n",
    "    chain = make_chain(res['pars'].keys(), res['mean'], res['cov'])\n",
    "    return res, chain"
   ]
  },
  {
   "cell_type": "markdown",
   "id": "f6668a0d-011c-4547-b0a5-229560fd9cab",
   "metadata": {},
   "source": [
    "Run main.ini files in the terminal (run_vega.py main.ini) to get fits files for the different mock/model combinations. Autocross indicates that we're adding the auto and cross correlations. There are two mocks being evaluated, HCDs -> 20 (20) and a realistic full range of HCDs (real). The letters represent different models or mock conditions: c = cooked mock, f = Fvoigt model or fitted continuum, r = Roger model, t = true continuum, m = masked DLAs. I also evaluate multiple scales (r_min cuts), looking at 10 Mpc, 25 Mpc (25), and 35 Mpc (35). No model means that the mock does not include HCD modelling, the Roger model is a previous theoretical exponential model, and the Fvoigt model is a model I calculated by running DLA catalogs for each mock through a series of code in my picca.ipynb notebook. "
   ]
  },
  {
   "cell_type": "code",
   "execution_count": null,
   "id": "1e21972a-baf7-4a60-a753-fd7996615f47",
   "metadata": {},
   "outputs": [],
   "source": [
    "res1, chain1 = get_res('/global/homes/k/kaiaatz/notebooks/outputs/autocross/20c25-autocross.fits')\n",
    "res2, chain2 = get_res('/global/homes/k/kaiaatz/notebooks/outputs/autocross/20f25-autocross.fits')\n",
    "res3, chain3 = get_res('/global/homes/k/kaiaatz/notebooks/outputs/autocross/20r25-autocross.fits')\n",
    "res4, chain4 = get_res('/global/homes/k/kaiaatz/notebooks/outputs/autocross/20r-autocross.fits')\n",
    "res5, chain5 = get_res('/global/homes/k/kaiaatz/notebooks/outputs/autocross/20r35-autocross.fits')\n",
    "res6, chain6 = get_res('/global/homes/k/kaiaatz/notebooks/outputs/autocross/realt25-autocross.fits')\n",
    "res7, chain7 = get_res('/global/homes/k/kaiaatz/notebooks/outputs/autocross/realtf25-autocross.fits')\n",
    "res8, chain8 = get_res('/global/homes/k/kaiaatz/notebooks/outputs/autocross/realtr25-autocross.fits')\n",
    "res9, chain9 = get_res('/global/homes/k/kaiaatz/notebooks/outputs/autocross/realf25-autocross.fits')\n",
    "res10, chain10 = get_res('/global/homes/k/kaiaatz/notebooks/outputs/autocross/realfr25-autocross.fits')\n",
    "res11, chain11 = get_res('/global/homes/k/kaiaatz/notebooks/outputs/autocross/realfm25-autocross.fits')\n",
    "res12, chain12 = get_res('/global/homes/k/kaiaatz/notebooks/outputs/autocross/realfmr-autocross.fits')\n",
    "res13, chain13 = get_res('/global/homes/k/kaiaatz/notebooks/outputs/autocross/realfmr25-autocross.fits')\n",
    "res14, chain14 = get_res('/global/homes/k/kaiaatz/notebooks/outputs/autocross/realfmr35-autocross.fits')\n",
    "res15, chain15 = get_res('/global/homes/k/kaiaatz/notebooks/outputs/autocross/realfmf25-autocross.fits') #invalid"
   ]
  },
  {
   "cell_type": "code",
   "execution_count": null,
   "id": "bcc38505-7001-4682-bbac-ef71c0775d7b",
   "metadata": {},
   "outputs": [],
   "source": [
    "plt.rcParams['text.color'] = 'black'\n",
    "plt.rcParams['axes.labelcolor'] = 'white'\n",
    "plt.rcParams['xtick.color'] = 'white'\n",
    "plt.rcParams['ytick.color'] = 'white'\n",
    "plt.rcParams['font.size'] = 200"
   ]
  },
  {
   "cell_type": "markdown",
   "id": "e470dec7-6734-4f17-8ec7-afcc4ad3e9da",
   "metadata": {},
   "source": [
    "Evaluate the efficiency of different models to determine the Alcock-Paczynski parameter, $\\phi_{s}$."
   ]
  },
  {
   "cell_type": "code",
   "execution_count": null,
   "id": "54678cbe-347c-4fde-ac07-13e101ef9693",
   "metadata": {},
   "outputs": [],
   "source": [
    "g = getdist.plots.getSinglePlotter(width_inch=12)\n",
    "g.plot_1d([chain4, chain3, chain5], 'phi_smooth')\n",
    "g.add_legend([r'HCDs -> 20/Roger Model at 10 Mpc', r'HCDs -> 20/Roger Model at 25 Mpc', r'HCDs -> 20/Roger Model at 35 Mpc'], bbox_to_anchor=(0, 0, 1.65, 1))\n",
    "g.fig.axes[0].axvline(1, color='k', ls='--')"
   ]
  },
  {
   "cell_type": "markdown",
   "id": "df3b0ec4-717f-4046-b261-2f11f9beb6da",
   "metadata": {},
   "source": [
    "When all HCDs have a column density $N_{HI} = 10^{20} cm^2$, the Roger model is most effective on a 25 Mpc scale. At 10 Mpc, there is a large deviation and at 35 Mpc, it is still fairly accurate but less precise. "
   ]
  },
  {
   "cell_type": "code",
   "execution_count": null,
   "id": "ce015c98-3974-485e-bb11-b44650fc207a",
   "metadata": {},
   "outputs": [],
   "source": [
    "g = getdist.plots.getSinglePlotter(width_inch=12)\n",
    "g.plot_1d([chain1, chain2, chain3], 'phi_smooth')\n",
    "g.add_legend([r'HCDs -> 20/No Model at 25 Mpc', r'HCDs -> 20/FVoigt Model at 25 Mpc', r'HCDs -> 20/Roger Model at 25 Mpc'], bbox_to_anchor=(0, 0, 1.65, 1))\n",
    "g.fig.axes[0].axvline(1, color='k', ls='--')"
   ]
  },
  {
   "cell_type": "markdown",
   "id": "2e568e05-d4fd-42d5-a425-f457b3e80cf1",
   "metadata": {},
   "source": [
    "When all HCDs have a column density $N_{HI} = 10^{20} cm^2$ at 25 Mpc, the Roger model significantly corrects the data which doesn't factor in HCDs. It is also more effective than the Fvoigt model."
   ]
  },
  {
   "cell_type": "code",
   "execution_count": null,
   "id": "095677ca-adce-4f95-a452-2e921141765c",
   "metadata": {},
   "outputs": [],
   "source": [
    "#true unmasked\n",
    "g = getdist.plots.getSinglePlotter(width_inch=12)\n",
    "g.plot_1d([chain6, chain7, chain8], 'phi_smooth')\n",
    "g.add_legend([r'All HCDs/No Model at 25 Mpc', r'All HCDs/FVoigt Model at 25 Mpc', r'All HCDs/Roger Model at 25 Mpc'], bbox_to_anchor=(0, 0, 1.65, 1))\n",
    "g.fig.axes[0].axvline(1, color='k', ls='--')"
   ]
  },
  {
   "cell_type": "markdown",
   "id": "a376c807-91f7-463c-a1bf-0df07a6366a6",
   "metadata": {},
   "source": [
    "For realistic HCD conditions of the true continuum at 25 Mpc, the Fvoigt model does the best job of correcting the unmodeled data. It is more accurate and precise than the Roger model for these conditions."
   ]
  },
  {
   "cell_type": "code",
   "execution_count": null,
   "id": "08aeba8e-eff1-4a87-b714-70949f8159fd",
   "metadata": {},
   "outputs": [],
   "source": [
    "#fitted masked\n",
    "g = getdist.plots.getSinglePlotter(width_inch=12)\n",
    "g.plot_1d([chain12, chain13, chain14], 'phi_smooth')\n",
    "g.add_legend([r'All HCDs/Roger Model at 10 Mpc', r'All HCDs/Roger Model at 25 Mpc', r'All HCDs/Roger Model at 35 Mpc'], bbox_to_anchor=(0, 0, 1.65, 1))\n",
    "g.fig.axes[0].axvline(1, color='k', ls='--')"
   ]
  },
  {
   "cell_type": "markdown",
   "id": "6c2cc3c2-49fd-4332-a84b-f8ce7818fe22",
   "metadata": {},
   "source": [
    "For realistic HCD conditions of the fitted continuum with masked DLAs, the Roger model best estimates $\\phi_{s}$ when it's on a 35 Mpc scale. At 10 Mpc there is considerable deviation and at 25 Mpc it is still around $2\\sigma$ deviation. However, they are a lot more precise."
   ]
  },
  {
   "cell_type": "code",
   "execution_count": null,
   "id": "11410344-e8a3-40e1-8322-938c67362b6f",
   "metadata": {},
   "outputs": [],
   "source": [
    "#fitted masked\n",
    "g = getdist.plots.getSinglePlotter(width_inch=12)\n",
    "g.plot_1d([chain11, chain15, chain13], 'phi_smooth')\n",
    "g.add_legend([r'All HCDs/No Model at 25 Mpc', r'All HCDs/Fvoigt Model at 25 Mpc', r'All HCDs/Roger Model at 25 Mpc'], bbox_to_anchor=(0, 0, 1.65, 1))\n",
    "g.fig.axes[0].axvline(1, color='k', ls='--')"
   ]
  },
  {
   "cell_type": "markdown",
   "id": "ff38fb40-f585-4aa3-9864-f4afa6766510",
   "metadata": {},
   "source": [
    "For realistic HCD conditions of the fitted continuum with masked DLAs, the Fvoigt model gives the best measure of the Alcock-Paczynski parameter. The unmodeled HCD and Roger cases are just as precise and not as accurate."
   ]
  },
  {
   "cell_type": "code",
   "execution_count": null,
   "id": "18d49f4f-d8a8-4765-83fa-c047bc94ee5a",
   "metadata": {},
   "outputs": [],
   "source": []
  }
 ],
 "metadata": {
  "kernelspec": {
   "display_name": "Vega",
   "language": "python",
   "name": "vega"
  },
  "language_info": {
   "codemirror_mode": {
    "name": "ipython",
    "version": 3
   },
   "file_extension": ".py",
   "mimetype": "text/x-python",
   "name": "python",
   "nbconvert_exporter": "python",
   "pygments_lexer": "ipython3",
   "version": "3.9.12"
  }
 },
 "nbformat": 4,
 "nbformat_minor": 5
}
