{
 "cells": [
  {
   "cell_type": "code",
   "execution_count": 1,
   "id": "07cd2158-fd1e-4ba5-9d87-e7a473918e91",
   "metadata": {},
   "outputs": [
    {
     "name": "stderr",
     "output_type": "stream",
     "text": [
      "usage: picca_compute_fvoigt.py [-h] --dla-catalog DLA_CATALOG --drq-catalog\n",
      "                               DRQ_CATALOG\n",
      "                               [--weight-vs-wavelength WEIGHT_VS_WAVELENGTH]\n",
      "                               -o OUTPUT [-d] [-p]\n",
      "picca_compute_fvoigt.py: error: the following arguments are required: --dla-catalog, --drq-catalog, -o/--output\n"
     ]
    },
    {
     "ename": "SystemExit",
     "evalue": "2",
     "output_type": "error",
     "traceback": [
      "An exception has occurred, use %tb to see the full traceback.\n",
      "\u001b[0;31mSystemExit\u001b[0m\u001b[0;31m:\u001b[0m 2\n"
     ]
    }
   ],
   "source": [
    "%run '/global/u1/k/kaiaatz/.conda/envs/vega/bin/picca_compute_fvoigt.py'"
   ]
  },
  {
   "cell_type": "code",
   "execution_count": 2,
   "id": "0e6bfbab-f4e3-433a-9ee6-566376c2ecf4",
   "metadata": {},
   "outputs": [],
   "source": [
    "cp /global/cfs/projectdirs/desi/users/acuceu/run/qq/desi-h20.15-1000/zcat_drq.fits ."
   ]
  },
  {
   "cell_type": "code",
   "execution_count": 3,
   "id": "efd34539-6dd3-40a2-8452-18c205220c88",
   "metadata": {},
   "outputs": [
    {
     "name": "stdout",
     "output_type": "stream",
     "text": [
      "<bound method HDUList.info of [<astropy.io.fits.hdu.image.PrimaryHDU object at 0x155550280760>, <astropy.io.fits.hdu.table.BinTableHDU object at 0x155517f957c0>]>\n",
      "XTENSION= 'BINTABLE'           / binary table extension                         BITPIX  =                    8 / 8-bit bytes                                    NAXIS   =                    2 / 2-dimensional binary table                     NAXIS1  =                   56 / width of table in bytes                        NAXIS2  =              1071846 / number of rows in table                        PCOUNT  =                    0 / size of special data area                      GCOUNT  =                    1 / one data group (required keyword)              TFIELDS =                    7 / number of fields in each row                   TTYPE1  = 'RA      '           / label for field   1                            TFORM1  = 'D       '           / data format of field: 8-byte DOUBLE            TTYPE2  = 'DEC     '           / label for field   2                            TFORM2  = 'D       '           / data format of field: 8-byte DOUBLE            TTYPE3  = 'Z       '           / label for field   3                            TFORM3  = 'D       '           / data format of field: 8-byte DOUBLE            TTYPE4  = 'THING_ID'           / label for field   4                            TFORM4  = 'K       '           / data format of field: 8-byte INTEGER           TTYPE5  = 'PLATE   '           / label for field   5                            TFORM5  = 'K       '           / data format of field: 8-byte INTEGER           TTYPE6  = 'MJD     '           / label for field   6                            TFORM6  = 'K       '           / data format of field: 8-byte INTEGER           TTYPE7  = 'FIBERID '           / label for field   7                            TFORM7  = 'K       '           / data format of field: 8-byte INTEGER           EXTNAME = 'CAT     '           / name of this binary table extension            END                                                                                                                                                                                                                                                                                                                                                                                                                                                                                                                                                                                                                                                                                                                                                                                                                                                                                                                                                                                                                                                                             \n"
     ]
    }
   ],
   "source": [
    "from astropy.io import fits\n",
    "hdul = fits.open('/global/cfs/projectdirs/desi/users/acuceu/run/qq/desi-h20.15-1000/zcat_drq.fits')\n",
    "print(hdul.info)\n",
    "print(hdul[1].header)"
   ]
  },
  {
   "cell_type": "code",
   "execution_count": 4,
   "id": "e7da64e0-502e-414e-97d3-6f74801bb2d1",
   "metadata": {},
   "outputs": [],
   "source": [
    "redshift = hdul[1].data['Z']"
   ]
  },
  {
   "cell_type": "code",
   "execution_count": 5,
   "id": "244e3982-f819-41c3-a56f-30084d841c7e",
   "metadata": {},
   "outputs": [
    {
     "data": {
      "text/plain": [
       "Text(0.5, 0, 'redshift')"
      ]
     },
     "execution_count": 5,
     "metadata": {},
     "output_type": "execute_result"
    },
    {
     "data": {
      "image/png": "[encoded data removed]",
      "text/plain": [
       "<Figure size 432x288 with 1 Axes>"
      ]
     },
     "metadata": {
      "needs_background": "light"
     },
     "output_type": "display_data"
    }
   ],
   "source": [
    "import matplotlib.pyplot as plt\n",
    "plt.hist(redshift)\n",
    "plt.xlabel('redshift')"
   ]
  },
  {
   "cell_type": "code",
   "execution_count": 6,
   "id": "27345468-435c-4e8a-86c5-e52058283423",
   "metadata": {},
   "outputs": [
    {
     "data": {
      "text/plain": [
       "Text(0, 0.5, 'declination')"
      ]
     },
     "execution_count": 6,
     "metadata": {},
     "output_type": "execute_result"
    },
    {
     "data": {
      "image/png": "[encoded data removed]",
      "text/plain": [
       "<Figure size 432x288 with 1 Axes>"
      ]
     },
     "metadata": {
      "needs_background": "light"
     },
     "output_type": "display_data"
    }
   ],
   "source": [
    "plt.plot(hdul[1].data['RA'], hdul[1].data['DEC'], 'bo')\n",
    "plt.xlabel('right ascension')\n",
    "plt.ylabel('declination')"
   ]
  },
  {
   "cell_type": "code",
   "execution_count": 7,
   "id": "1478301a-6fea-48e0-9d50-ba13dfd9786d",
   "metadata": {},
   "outputs": [
    {
     "name": "stdout",
     "output_type": "stream",
     "text": [
      "<bound method HDUList.info of [<astropy.io.fits.hdu.image.PrimaryHDU object at 0x155510d69a30>, <astropy.io.fits.hdu.table.BinTableHDU object at 0x155510d28af0>]>\n",
      "XTENSION= 'BINTABLE'           / binary table extension                         BITPIX  =                    8 / 8-bit bytes                                    NAXIS   =                    2 / 2-dimensional binary table                     NAXIS1  =                   32 / width of table in bytes                        NAXIS2  =               655575 / number of rows in table                        PCOUNT  =                    0 / size of special data area                      GCOUNT  =                    1 / one data group (required keyword)              TFIELDS =                    4 / number of fields in each row                   TTYPE1  = 'NHI     '           / label for field   1                            TFORM1  = 'D       '           / data format of field: 8-byte DOUBLE            TTYPE2  = 'Z       '           / label for field   2                            TFORM2  = 'D       '           / data format of field: 8-byte DOUBLE            TTYPE3  = 'TARGETID'           / label for field   3                            TFORM3  = 'K       '           / data format of field: 8-byte INTEGER           TTYPE4  = 'DLAID   '           / label for field   4                            TFORM4  = 'K       '           / data format of field: 8-byte INTEGER           EXTNAME = 'DLACAT  '           / name of this binary table extension            END                                                                                                                                                                                                                                                                                                                                                                                                                                                                                                                                                                                                                                                                                                                                                                                                                                                                                                                                                                                                                                                                                                                                                                                                                                                                                                                                                                                                                                                                                                                                                                             \n"
     ]
    }
   ],
   "source": [
    "hdul1 = fits.open('/global/cfs/projectdirs/desi/users/acuceu/run/qq/desi-h20.15-1000/dla_cat.fits')\n",
    "print(hdul1.info)\n",
    "print(hdul1[1].header)"
   ]
  },
  {
   "cell_type": "code",
   "execution_count": 8,
   "id": "3e211895-8ff6-4003-9440-239512839d0e",
   "metadata": {},
   "outputs": [
    {
     "data": {
      "text/plain": [
       "Text(0, 0.5, 'redshift')"
      ]
     },
     "execution_count": 8,
     "metadata": {},
     "output_type": "execute_result"
    },
    {
     "data": {
      "image/png": "[encoded data removed]",
      "text/plain": [
       "<Figure size 432x288 with 1 Axes>"
      ]
     },
     "metadata": {
      "needs_background": "light"
     },
     "output_type": "display_data"
    }
   ],
   "source": [
    "plt.plot(hdul1[1].data['NHI'], hdul1[1].data['Z'])\n",
    "plt.xlabel('NHI')\n",
    "plt.ylabel('redshift')"
   ]
  },
  {
   "cell_type": "code",
   "execution_count": 9,
   "id": "f00f2e6e-6eab-4a3b-b022-3d97ae8e56af",
   "metadata": {},
   "outputs": [
    {
     "data": {
      "text/plain": [
       "Text(0.5, 0, 'redshift')"
      ]
     },
     "execution_count": 9,
     "metadata": {},
     "output_type": "execute_result"
    },
    {
     "data": {
      "image/png": "[encoded data removed]",
      "text/plain": [
       "<Figure size 432x288 with 1 Axes>"
      ]
     },
     "metadata": {
      "needs_background": "light"
     },
     "output_type": "display_data"
    }
   ],
   "source": [
    "plt.hist(hdul1[1].data['Z'])\n",
    "plt.xlabel('redshift')"
   ]
  },
  {
   "cell_type": "code",
   "execution_count": 10,
   "id": "88773738-a4fa-43af-adb5-59088aaa1923",
   "metadata": {},
   "outputs": [],
   "source": [
    "#!/usr/bin/env python\n",
    "# -*- coding: utf-8 -*-\n",
    "\"\"\"\n",
    "Computes the convolution term Fvoigt(k) and saves it in an ASCII file. The inputs are a DLA and a QSO catalog (both as fits binary tables). The DLA table must contain the columns \"MOCKID\" matching qso \"THING_ID\", and \"Z_DLA_RSD\". The QSO table must contain the columns \"THING_ID\", and \"Z\"\n",
    "\"\"\"\n",
    "import sys\n",
    "import argparse\n",
    "import numpy as np\n",
    "import scipy.integrate as integrate\n",
    "import matplotlib.pyplot as plt\n",
    "import astropy.io.fits as fits\n",
    "from scipy.special import wofz\n",
    "\n",
    "import picca.constants as constants\n",
    "from picca.utils import userprint\n",
    "\n",
    "def voigt(x, sigma=1, gamma=1):\n",
    "    return np.real(wofz((x + 1j*gamma)/(sigma*np.sqrt(2))))\n",
    "\n",
    "def tau(lamb, z, N_hi):\n",
    "    \"\"\" lamb = lambda in A and N_hi in log10(cm^-2) \"\"\"\n",
    "\n",
    "    lamb_rf = lamb/(1+z)\n",
    "    e = 1.6021e-19 #C\n",
    "    epsilon0 = 8.8541e-12 #C^2.s^2.kg^-1.m^-3\n",
    "    f = 0.4164\n",
    "    mp = 1.6726e-27 #kg\n",
    "    me = 9.109e-31 #kg\n",
    "    c = 2.9979e8 #m.s^-1\n",
    "    k = 1.3806e-23 #m^2.kg.s^-2.K-1\n",
    "    T = 1e4 #K\n",
    "    gamma = 6.265e8 #s^-1\n",
    "    lamb_alpha = constants.ABSORBER_IGM[\"LYA\"] #A\n",
    "    Deltat_lamb = lamb_alpha/c*np.sqrt(2*k*T/mp) #A\n",
    "\n",
    "    a = gamma/(4*np.pi*Deltat_lamb)*lamb_alpha**2/c*1e-10\n",
    "    u = (lamb_rf - lamb_alpha)/Deltat_lamb\n",
    "    H = voigt(u, np.sqrt(1/2), a)\n",
    "\n",
    "    absorb = np.sqrt(np.pi)*e**2*f*lamb_alpha**2*1e-10/(4*np.pi*epsilon0*me*c**2*Deltat_lamb)*H\n",
    "    #10^N_hi en cm^-2 et absorb en m^2\n",
    "    return 10**N_hi*1e4*absorb\n",
    "\n",
    "def profile_voigt_lambda(x, z, N_hi):\n",
    "    t = tau(x, z, N_hi).astype(float)\n",
    "    return np.exp(-t)\n",
    "\n",
    "def profile_lambda_to_r(lamb, profile_lambda, fidcosmo): #pour Lyman_alpha --> sinon mettre une autre raie\n",
    "    z = lamb/constants.ABSORBER_IGM[\"LYA\"] - 1\n",
    "    r = fidcosmo.get_r_comov(z)\n",
    "    rr = np.linspace(r[0], r[-1], r.size)\n",
    "    profile_r = np.interp(rr,r,profile_lambda) #pour reavoir un echantillonage lineaire\n",
    "    return rr, profile_r\n",
    "\n",
    "def fft_profile(profile, dx): # non normalise\n",
    "    n = profile.size\n",
    "    tmp = (1-profile)\n",
    "    ft_profile = dx*np.fft.fftshift(np.fft.fft(tmp))\n",
    "    k = np.fft.fftshift(np.fft.fftfreq(n, dx))*(2*np.pi)\n",
    "    return ft_profile, k\n",
    "\n",
    "def lambda_to_r(lamb, profile_lambda, fidcosmo):\n",
    "    \"\"\"\n",
    "    Converts a profile as a function of wavelength to a profile as a function of r in Mpc/h\n",
    "    \"\"\"\n",
    "\n",
    "    z = lamb/constants.ABSORBER_IGM[\"LYA\"] - 1\n",
    "    r = fidcosmo.get_r_comov(z)\n",
    "    rr = np.linspace(r[0], r[-1], r.size)\n",
    "    profile_lambda = profile_lambda*fidcosmo.get_hubble(z)*constants.ABSORBER_IGM[\"LYA\"]/3e5\n",
    "    profile_r = np.interp(rr,r,profile_lambda)\n",
    "    return rr, profile_r\n",
    "\n",
    "def compute_dla_prob_per_nhi(wavelength,nhi,dla,qso,dnhi):\n",
    "    \"\"\"\n",
    "    Computes the probability of finding a DLA with NHI= n+-dn and wavelength lambda +- dlambda\n",
    "    - wavelength 1D array\n",
    "    - nhi value of column density bin center log10(cm-2)\n",
    "    - dla the DLA catalog (table)\n",
    "    - qso the QSO catalog (table)\n",
    "    - dnhi bin width log10(cm-2)\n",
    "    \"\"\"\n",
    "\n",
    "    dla_lamb = (1 + dla['Z'])*constants.ABSORBER_IGM[\"LYA\"]\n",
    "    dla_nhi  = dla['NHI']\n",
    "    qso_lamb = (1 + qso['Z'])*constants.ABSORBER_IGM[\"LYA\"]\n",
    "    dwave=np.gradient(wavelength)\n",
    "\n",
    "    wbins = np.zeros(wavelength.size+1)\n",
    "    wbins[:-1] = wavelength-dwave/2\n",
    "    wbins[-1] = wavelength[-1]+dwave[-1]/2.\n",
    "\n",
    "    ndla,_ = np.histogram(dla_lamb[np.abs(dla_nhi-nhi)<dnhi/2],bins=wbins)\n",
    "\n",
    "    f = np.zeros(wavelength.size)\n",
    "    for i,wave in enumerate(wavelength) :\n",
    "        #n_dla = np.sum( (np.abs(dla_lamb-wave)<dwave[i]/2) & (np.abs(dla_nhi-nhi)<dnhi/2) )\n",
    "        nqso = np.sum( qso_lamb > wave)\n",
    "        if nqso>0 :\n",
    "            f[i]  = ndla[i]/float(nqso)/dnhi/dwave[i]\n",
    "\n",
    "    return f\n",
    "\n",
    "def compute_dla_prob(wavelength, NHI, dla, qso, weight):\n",
    "\n",
    "    \"\"\"\n",
    "    Computes the probability of finding a DLA\n",
    "     - wavelength is 1 1D array\n",
    "     - NHI is a 1D array of N(HI) in units of log10(cm^-2)\n",
    "     - dla the DLA catalog (table)\n",
    "     - qso the QSO catalog (table)\n",
    "     - weights as a function of wavelength\n",
    "    \"\"\"\n",
    "    dnhi=np.gradient(NHI)\n",
    "    mean_density = np.zeros(NHI.size)\n",
    "    for i,nhi in enumerate(NHI):\n",
    "        userprint(\"compute prob(NHI={}) ({}/{})\".format(nhi,(i+1),NHI.size))\n",
    "        f = compute_dla_prob_per_nhi(wavelength,nhi=nhi,dla=dla,qso=qso,dnhi=dnhi[i])\n",
    "        mean_density[i] = np.sum(f*weight)/np.sum(weight)\n",
    "    return mean_density"
   ]
  },
  {
   "cell_type": "code",
   "execution_count": 11,
   "id": "b16092e3-944d-4d00-aadd-6b9981ec5217",
   "metadata": {},
   "outputs": [
    {
     "name": "stdout",
     "output_type": "stream",
     "text": [
      "WARNING: Hardcoded weight vs wavelength file /global/common/software/desi/users/jguy/igmhub/code_stage_lbl/build_Fvoigt/data/weight_lambda.txt\n",
      "compute prob(NHI=17.0) (1/51)\n",
      "compute prob(NHI=17.1) (2/51)\n",
      "compute prob(NHI=17.2) (3/51)\n",
      "compute prob(NHI=17.3) (4/51)\n",
      "compute prob(NHI=17.4) (5/51)\n",
      "compute prob(NHI=17.5) (6/51)\n",
      "compute prob(NHI=17.6) (7/51)\n",
      "compute prob(NHI=17.7) (8/51)\n",
      "compute prob(NHI=17.8) (9/51)\n",
      "compute prob(NHI=17.9) (10/51)\n",
      "compute prob(NHI=18.0) (11/51)\n",
      "compute prob(NHI=18.1) (12/51)\n",
      "compute prob(NHI=18.2) (13/51)\n",
      "compute prob(NHI=18.3) (14/51)\n",
      "compute prob(NHI=18.4) (15/51)\n",
      "compute prob(NHI=18.5) (16/51)\n",
      "compute prob(NHI=18.6) (17/51)\n",
      "compute prob(NHI=18.7) (18/51)\n",
      "compute prob(NHI=18.8) (19/51)\n",
      "compute prob(NHI=18.9) (20/51)\n",
      "compute prob(NHI=19.0) (21/51)\n",
      "compute prob(NHI=19.1) (22/51)\n",
      "compute prob(NHI=19.2) (23/51)\n",
      "compute prob(NHI=19.3) (24/51)\n",
      "compute prob(NHI=19.4) (25/51)\n",
      "compute prob(NHI=19.5) (26/51)\n",
      "compute prob(NHI=19.6) (27/51)\n",
      "compute prob(NHI=19.7) (28/51)\n",
      "compute prob(NHI=19.8) (29/51)\n",
      "compute prob(NHI=19.9) (30/51)\n",
      "compute prob(NHI=20.0) (31/51)\n",
      "compute prob(NHI=20.1) (32/51)\n",
      "compute prob(NHI=20.2) (33/51)\n",
      "compute prob(NHI=20.3) (34/51)\n",
      "compute prob(NHI=20.4) (35/51)\n",
      "compute prob(NHI=20.5) (36/51)\n",
      "compute prob(NHI=20.6) (37/51)\n",
      "compute prob(NHI=20.7) (38/51)\n",
      "compute prob(NHI=20.8) (39/51)\n",
      "compute prob(NHI=20.9) (40/51)\n",
      "compute prob(NHI=21.0) (41/51)\n",
      "compute prob(NHI=21.1) (42/51)\n",
      "compute prob(NHI=21.2) (43/51)\n",
      "compute prob(NHI=21.3) (44/51)\n",
      "compute prob(NHI=21.4) (45/51)\n",
      "compute prob(NHI=21.5) (46/51)\n",
      "compute prob(NHI=21.6) (47/51)\n",
      "compute prob(NHI=21.7) (48/51)\n",
      "compute prob(NHI=21.8) (49/51)\n",
      "compute prob(NHI=21.9) (50/51)\n",
      "compute prob(NHI=22.0) (51/51)\n",
      "ATTENTION: Analysis is blinded with strategy False\n",
      "Om=0.3, Or=0.0, wl=-1.0, H0=100.0\n"
     ]
    },
    {
     "ename": "NameError",
     "evalue": "name 'output' is not defined",
     "output_type": "error",
     "traceback": [
      "\u001b[0;31m---------------------------------------------------------------------------\u001b[0m",
      "\u001b[0;31mNameError\u001b[0m                                 Traceback (most recent call last)",
      "Input \u001b[0;32mIn [11]\u001b[0m, in \u001b[0;36m<cell line: 176>\u001b[0;34m()\u001b[0m\n\u001b[1;32m    173\u001b[0m \u001b[38;5;66;03m#output = \"output_Fvoigt1.txt\"\u001b[39;00m\n\u001b[1;32m    175\u001b[0m \u001b[38;5;28;01mif\u001b[39;00m debug : userprint(\u001b[38;5;124m\"\u001b[39m\u001b[38;5;124msave in \u001b[39m\u001b[38;5;132;01m{}\u001b[39;00m\u001b[38;5;124m\"\u001b[39m\u001b[38;5;241m.\u001b[39mformat(args\u001b[38;5;241m.\u001b[39moutput))\n\u001b[0;32m--> 176\u001b[0m np\u001b[38;5;241m.\u001b[39msavetxt(\u001b[43moutput\u001b[49m, np\u001b[38;5;241m.\u001b[39marray([k,Fvoigt])\u001b[38;5;241m.\u001b[39mT)\n\u001b[1;32m    178\u001b[0m debug \u001b[38;5;241m=\u001b[39m \u001b[38;5;28;01mFalse\u001b[39;00m\n\u001b[1;32m    180\u001b[0m \u001b[38;5;28;01mif\u001b[39;00m debug:\n",
      "\u001b[0;31mNameError\u001b[0m: name 'output' is not defined"
     ]
    },
    {
     "data": {
      "image/png": "[encoded data removed]",
      "text/plain": [
       "<Figure size 432x288 with 1 Axes>"
      ]
     },
     "metadata": {
      "needs_background": "dark"
     },
     "output_type": "display_data"
    }
   ],
   "source": [
    "#     parser = argparse.ArgumentParser(\n",
    "#         formatter_class=argparse.ArgumentDefaultsHelpFormatter,\n",
    "#         description=('Computes the convolution term Fvoigt(k) and saves it in '\n",
    "#                      'an ASCII file. The inputs are a DLA and a QSO catalog '\n",
    "#                      '(both as fits binary tables). The DLA table must contain '\n",
    "#                      'the columns \"MOCKID\" matching qso \"THING_ID\", and '\n",
    "#                      '\"Z_DLA_RSD\". The QSO table must contain the columns '\n",
    "#                      '\"THING_ID\", and \"Z\"'))\n",
    "\n",
    "#     parser.add_argument(\n",
    "#         '--dla-catalog',\n",
    "#         type=str,\n",
    "#         default=None,\n",
    "#         required=True,\n",
    "#         help=('DLA catalog fits file , like '\n",
    "#               '/project/projectdirs/desi/mocks/lya_forest/develop/saclay/v4.4/v4.4.3/master_DLA.fits'))\n",
    "\n",
    "#     parser.add_argument(\n",
    "#         '--drq-catalog',\n",
    "#         type=str,\n",
    "#         default=None,\n",
    "#         required=True,\n",
    "#         help=('DRQ catalog fits file, like '\n",
    "#               '/project/projectdirs/desi/mocks/lya_forest/develop/saclay/v4.4/v4.4.3/eboss-0.2/zcat_desi_drq.fits'))\n",
    "\n",
    "#     parser.add_argument(\n",
    "#         '--weight-vs-wavelength',\n",
    "#         type=str,\n",
    "#         default=None,\n",
    "#         required=False,\n",
    "#         help=('sum of delta weight as a function of wavelength (two columns '\n",
    "#               'ASCII file)'))\n",
    "\n",
    "#     parser.add_argument(\n",
    "#         '-o', '--output',\n",
    "#         type=str,\n",
    "#         default=None,\n",
    "#         required=True,\n",
    "#         help='FVoigt as a function of k in h/Mpc (two columns ASCII file)')\n",
    "\n",
    "#     parser.add_argument('-d','--debug', action='store_true', default=True)\n",
    "\n",
    "#     parser.add_argument('-p','--plot', action='store_true',\n",
    "#                         help=\"show some plots\")\n",
    "\n",
    "\n",
    "#     args = parser.parse_args(cmdargs)\n",
    "\n",
    "plt.rcParams['text.color'] = 'black'\n",
    "plt.rcParams['axes.labelcolor'] = 'white'\n",
    "plt.rcParams['xtick.color'] = 'white'\n",
    "plt.rcParams['ytick.color'] = 'white'\n",
    "plt.rcParams['font.size'] = 30\n",
    "\n",
    "debug = False\n",
    "\n",
    "if debug:\n",
    "    userprint(\"read DLA catalog\")\n",
    "dla = fits.open('/global/cfs/projectdirs/desi/users/acuceu/run/qq/desi-h20.15-1000/dla_cat.fits')[1].data\n",
    "\n",
    "if debug:\n",
    "    userprint(\"read DRQ catalog\")\n",
    "qso = fits.open('/global/cfs/projectdirs/desi/users/acuceu/run/qq/desi-h20.15-1000/zcat_drq.fits')[1].data\n",
    "\n",
    "if debug:\n",
    "    userprint(\"only keep DLAs in DRQ quasars LOS\")\n",
    "dla = dla[:][np.in1d(dla['TARGETID'], qso['THING_ID'])]\n",
    "\n",
    "coarse_wavelength = np.arange(3000, 8000, 100)\n",
    "\n",
    "weight_vs_wavelength = None\n",
    "\n",
    "if weight_vs_wavelength is None:\n",
    "    filename = \"/global/common/software/desi/users/jguy/igmhub/code_stage_lbl/build_Fvoigt/data/weight_lambda.txt\"\n",
    "    userprint(\"WARNING: Hardcoded weight vs wavelength file {}\".format(filename))\n",
    "    weight_vs_wavelength = filename\n",
    "\n",
    "if weight_vs_wavelength is not None:\n",
    "    if debug:\n",
    "        userprint(\"read weights vs wave\")\n",
    "    tmp = np.loadtxt(weight_vs_wavelength)\n",
    "    weight = np.interp(coarse_wavelength, tmp[:, 0], tmp[:, 1])\n",
    "else :\n",
    "    weight = np.ones(coarse_wavelength.shape)\n",
    "\n",
    "zdla = np.mean(dla['Z'])\n",
    "NHI = np.linspace(17, 22, 51)\n",
    "\n",
    "# probability of finding a DLA at NHI in a QSO LOS (per A and per unit NHI)\n",
    "# averaged over wavelength, using the provided wavelength weight\n",
    "prob = compute_dla_prob(coarse_wavelength, NHI, dla=dla, qso=qso, weight=weight)\n",
    "\n",
    "ii=(prob > 0)\n",
    "prob=prob[ii]\n",
    "NHI=NHI[ii]\n",
    "\n",
    "plot = True\n",
    "\n",
    "if plot :\n",
    "    plt.figure(\"prob\")\n",
    "    plt.plot(NHI,prob,\"o-\")\n",
    "    plt.xlabel(\"NHI (log10(cm-2))\")\n",
    "    plt.ylabel(\"prob(DLA) per unit NHI per A\")\n",
    "\n",
    "# now use a finer wavelength grid\n",
    "wavelength = np.arange(3000, 8000, 1.)\n",
    "# conversion A -> Mpc/h\n",
    "fidcosmo = constants.Cosmo(Om=0.3)\n",
    "r_wave   = fidcosmo.get_r_comov(wavelength/constants.ABSORBER_IGM[\"LYA\"] - 1)\n",
    "# linear grid of Mpc/h (need to convert to linear grid for the FFT)\n",
    "r_lin    = np.linspace(r_wave[0],r_wave[-1],r_wave.size)\n",
    "\n",
    "for i in range(NHI.size):\n",
    "\n",
    "    if debug : userprint(\"compute dF/dNHI for NHI={} ({}/{})\".format(NHI[i],(i+1),NHI.size))\n",
    "    profile   = profile_voigt_lambda(wavelength, zdla, 17)#NHI[i])\n",
    "    profile_r = np.interp(r_lin,r_wave,profile) # interpolation to linear r grid\n",
    "    # r is in Mpc h^-1 --> k in h*Mpc^-1\n",
    "    ft_profile, k = fft_profile(profile_r, np.abs(r_lin[1]-r_lin[0]))\n",
    "    ft_profile = np.abs(ft_profile)\n",
    "    if i == 0:\n",
    "        df = np.array([ft_profile*prob[i]])\n",
    "    else:\n",
    "        df = np.concatenate((df, np.array([ft_profile*prob[i]])))\n",
    "\n",
    "Fvoigt = df[0]\n",
    "Fvoigt = Fvoigt/Fvoigt[k.size//2]\n",
    "\n",
    "ii=(k>=0)\n",
    "k=k[ii]\n",
    "Fvoigt=Fvoigt[ii]\n",
    "\n",
    "for i in range(NHI.size):\n",
    "\n",
    "    if debug : userprint(\"compute dF/dNHI for NHI={} ({}/{})\".format(NHI[i],(i+1),NHI.size))\n",
    "    profile   = profile_voigt_lambda(wavelength, zdla, 19)#NHI[i])\n",
    "    profile_r = np.interp(r_lin,r_wave,profile) # interpolation to linear r grid\n",
    "    # r is in Mpc h^-1 --> k in h*Mpc^-1\n",
    "    ft_profile, k = fft_profile(profile_r, np.abs(r_lin[1]-r_lin[0]))\n",
    "    ft_profile = np.abs(ft_profile)\n",
    "    if i == 0:\n",
    "        df = np.array([ft_profile*prob[i]])\n",
    "    else:\n",
    "        df = np.concatenate((df, np.array([ft_profile*prob[i]])))\n",
    "\n",
    "Fvoigt1 = df[0]\n",
    "Fvoigt1 = Fvoigt1/Fvoigt1[k.size//2]\n",
    "\n",
    "ii=(k>=0)\n",
    "k=k[ii]\n",
    "Fvoigt1=Fvoigt1[ii]\n",
    "\n",
    "for i in range(NHI.size):\n",
    "\n",
    "    if debug : userprint(\"compute dF/dNHI for NHI={} ({}/{})\".format(NHI[i],(i+1),NHI.size))\n",
    "    profile   = profile_voigt_lambda(wavelength, zdla, 21)#NHI[i])\n",
    "    profile_r = np.interp(r_lin,r_wave,profile) # interpolation to linear r grid\n",
    "    # r is in Mpc h^-1 --> k in h*Mpc^-1\n",
    "    ft_profile, k = fft_profile(profile_r, np.abs(r_lin[1]-r_lin[0]))\n",
    "    ft_profile = np.abs(ft_profile)\n",
    "    if i == 0:\n",
    "        df = np.array([ft_profile*prob[i]])\n",
    "    else:\n",
    "        df = np.concatenate((df, np.array([ft_profile*prob[i]])))\n",
    "\n",
    "Fvoigt2 = df[0]\n",
    "Fvoigt2 = Fvoigt2/Fvoigt2[k.size//2]\n",
    "\n",
    "ii=(k>=0)\n",
    "k=k[ii]\n",
    "Fvoigt2=Fvoigt2[ii]\n",
    "\n",
    "#output = \"output_Fvoigt1.txt\"\n",
    "\n",
    "if debug : userprint(\"save in {}\".format(args.output))\n",
    "np.savetxt(output, np.array([k,Fvoigt]).T)\n",
    "\n",
    "debug = False\n",
    "\n",
    "if debug:\n",
    "    userprint(\"read DLA catalog\")\n",
    "dla3 = fits.open('/global/cfs/projectdirs/desi/users/acuceu/run/qq/dla_cat.fits')[1].data\n",
    "\n",
    "if debug:\n",
    "    userprint(\"read DRQ catalog\")\n",
    "qso3 = fits.open('/global/cfs/projectdirs/desi/users/acuceu/run/qq/zcat_drq.fits')[1].data\n",
    "\n",
    "if debug:\n",
    "    userprint(\"only keep DLAs in DRQ quasars LOS\")\n",
    "dla3 = dla3[:][np.in1d(dla3['TARGETID'], qso3['THING_ID'])]\n",
    "\n",
    "coarse_wavelength = np.arange(3000, 8000, 100)\n",
    "\n",
    "weight_vs_wavelength = None\n",
    "\n",
    "if weight_vs_wavelength is None:\n",
    "    filename = \"/global/common/software/desi/users/jguy/igmhub/code_stage_lbl/build_Fvoigt/data/weight_lambda.txt\"\n",
    "    userprint(\"WARNING: Hardcoded weight vs wavelength file {}\".format(filename))\n",
    "    weight_vs_wavelength = filename\n",
    "\n",
    "if weight_vs_wavelength is not None:\n",
    "    if debug:\n",
    "        userprint(\"read weights vs wave\")\n",
    "    tmp = np.loadtxt(weight_vs_wavelength)\n",
    "    weight = np.interp(coarse_wavelength, tmp[:, 0], tmp[:, 1])\n",
    "else :\n",
    "    weight = np.ones(coarse_wavelength.shape)\n",
    "\n",
    "zdla = np.mean(dla3['Z'])\n",
    "NHI = np.linspace(17, 22, 51)\n",
    "\n",
    "# probability of finding a DLA at NHI in a QSO LOS (per A and per unit NHI)\n",
    "# averaged over wavelength, using the provided wavelength weight\n",
    "prob = compute_dla_prob(coarse_wavelength, NHI, dla=dla3, qso=qso3, weight=weight)\n",
    "\n",
    "ii=(prob > 0)\n",
    "prob=prob[ii]\n",
    "NHI=NHI[ii]\n",
    "\n",
    "plot = True\n",
    "\n",
    "if plot :\n",
    "    plt.figure(\"prob\")\n",
    "    plt.plot(NHI,prob,\"o-\")\n",
    "    plt.xlabel(\"NHI (log10(cm-2))\")\n",
    "    plt.ylabel(\"prob(DLA) per unit NHI per A\")\n",
    "\n",
    "# now use a finer wavelength grid\n",
    "wavelength = np.arange(3000, 8000, 1.)\n",
    "# conversion A -> Mpc/h\n",
    "fidcosmo = constants.Cosmo(Om=0.3)\n",
    "r_wave   = fidcosmo.get_r_comov(wavelength/constants.ABSORBER_IGM[\"LYA\"] - 1)\n",
    "# linear grid of Mpc/h (need to convert to linear grid for the FFT)\n",
    "r_lin    = np.linspace(r_wave[0],r_wave[-1],r_wave.size)\n",
    "\n",
    "for i in range(NHI.size):\n",
    "\n",
    "    if debug : userprint(\"compute dF/dNHI for NHI={} ({}/{})\".format(NHI[i],(i+1),NHI.size))\n",
    "    profile   = profile_voigt_lambda(wavelength, zdla, NHI[i])\n",
    "    profile_r = np.interp(r_lin,r_wave,profile) # interpolation to linear r grid\n",
    "    # r is in Mpc h^-1 --> k in h*Mpc^-1\n",
    "    ft_profile, k = fft_profile(profile_r, np.abs(r_lin[1]-r_lin[0]))\n",
    "    ft_profile = np.abs(ft_profile)\n",
    "    if i == 0:\n",
    "        df = np.array([ft_profile*prob[i]])\n",
    "    else:\n",
    "        df = np.concatenate((df, np.array([ft_profile*prob[i]])))\n",
    "\n",
    "if debug : userprint(\"compute F(k)=int dF/dNHI * dNHI\")\n",
    "Fvoigt3 = np.zeros(k.size)\n",
    "for i in range(k.size):\n",
    "    Fvoigt3[i] = integrate.trapz(df[:,i], NHI)\n",
    "Fvoigt3 = Fvoigt3/Fvoigt3[k.size//2]\n",
    "\n",
    "ii=(k>=0)\n",
    "k=k[ii]\n",
    "Fvoigt3=Fvoigt3[ii]\n",
    "\n",
    "for i in range(NHI.size):\n",
    "\n",
    "    if debug : userprint(\"compute dF/dNHI for NHI={} ({}/{})\".format(NHI[i],(i+1),NHI.size))\n",
    "    profile   = profile_voigt_lambda(wavelength, zdla, 17)\n",
    "    profile_r = np.interp(r_lin,r_wave,profile) # interpolation to linear r grid\n",
    "    # r is in Mpc h^-1 --> k in h*Mpc^-1\n",
    "    ft_profile, k = fft_profile(profile_r, np.abs(r_lin[1]-r_lin[0]))\n",
    "    ft_profile = np.abs(ft_profile)\n",
    "    if i == 0:\n",
    "        df = np.array([ft_profile*prob[i]])\n",
    "    else:\n",
    "        df = np.concatenate((df, np.array([ft_profile*prob[i]])))\n",
    "\n",
    "if debug : userprint(\"compute F(k)=int dF/dNHI * dNHI\")\n",
    "Fvoigt4 = np.zeros(k.size)\n",
    "for i in range(k.size):\n",
    "    Fvoigt4[i] = integrate.trapz(df[:,i], NHI)\n",
    "Fvoigt4 = Fvoigt4/Fvoigt4[k.size//2]\n",
    "\n",
    "ii=(k>=0)\n",
    "k=k[ii]\n",
    "Fvoigt4=Fvoigt4[ii]\n",
    "\n",
    "for i in range(NHI.size):\n",
    "\n",
    "    if debug : userprint(\"compute dF/dNHI for NHI={} ({}/{})\".format(NHI[i],(i+1),NHI.size))\n",
    "    profile   = profile_voigt_lambda(wavelength, zdla, 19)\n",
    "    profile_r = np.interp(r_lin,r_wave,profile) # interpolation to linear r grid\n",
    "    # r is in Mpc h^-1 --> k in h*Mpc^-1\n",
    "    ft_profile, k = fft_profile(profile_r, np.abs(r_lin[1]-r_lin[0]))\n",
    "    ft_profile = np.abs(ft_profile)\n",
    "    if i == 0:\n",
    "        df = np.array([ft_profile*prob[i]])\n",
    "    else:\n",
    "        df = np.concatenate((df, np.array([ft_profile*prob[i]])))\n",
    "\n",
    "if debug : userprint(\"compute F(k)=int dF/dNHI * dNHI\")\n",
    "Fvoigt5 = np.zeros(k.size)\n",
    "for i in range(k.size):\n",
    "    Fvoigt5[i] = integrate.trapz(df[:,i], NHI)\n",
    "Fvoigt5 = Fvoigt5/Fvoigt5[k.size//2]\n",
    "\n",
    "ii=(k>=0)\n",
    "k=k[ii]\n",
    "Fvoigt5=Fvoigt5[ii]\n",
    "\n",
    "for i in range(NHI.size):\n",
    "\n",
    "    if debug : userprint(\"compute dF/dNHI for NHI={} ({}/{})\".format(NHI[i],(i+1),NHI.size))\n",
    "    profile   = profile_voigt_lambda(wavelength, zdla, 21)\n",
    "    profile_r = np.interp(r_lin,r_wave,profile) # interpolation to linear r grid\n",
    "    # r is in Mpc h^-1 --> k in h*Mpc^-1\n",
    "    ft_profile, k = fft_profile(profile_r, np.abs(r_lin[1]-r_lin[0]))\n",
    "    ft_profile = np.abs(ft_profile)\n",
    "    if i == 0:\n",
    "        df = np.array([ft_profile*prob[i]])\n",
    "    else:\n",
    "        df = np.concatenate((df, np.array([ft_profile*prob[i]])))\n",
    "\n",
    "if debug : userprint(\"compute F(k)=int dF/dNHI * dNHI\")\n",
    "Fvoigt6 = np.zeros(k.size)\n",
    "for i in range(k.size):\n",
    "    Fvoigt6[i] = integrate.trapz(df[:,i], NHI)\n",
    "Fvoigt6 = Fvoigt6/Fvoigt6[k.size//2]\n",
    "\n",
    "ii=(k>=0)\n",
    "k=k[ii]\n",
    "Fvoigt6=Fvoigt6[ii]\n",
    "\n",
    "output = \"output_Fvoigt5.txt\"\n",
    "\n",
    "if debug : userprint(\"save in {}\".format(args.output))\n",
    "np.savetxt(output, np.array([k,Fvoigt3]).T)\n",
    "\n",
    "if plot :\n",
    "    plt.figure(\"fk\", figsize=(10,10))\n",
    "    #plt.plot(k,Fvoigt,label=\"this model for NHI=17\")\n",
    "    #plt.plot(k,Fvoigt1,label=\"this model for NHI=19\")\n",
    "    #plt.plot(k,Fvoigt2,label=\"this model for NHI=21\")\n",
    "    plt.plot(k,Fvoigt3,label=\"Realistic HCD model\")\n",
    "    plt.plot(k,Fvoigt4,label=\"All HCDs for NHI=17\")\n",
    "    plt.plot(k,Fvoigt5,label=\"All HCDs for NHI=19\")\n",
    "    plt.plot(k,Fvoigt6,label=\"All HCDs for NHI=21\")\n",
    "    plt.plot(k,np.exp(-k*10),\"--\",label=\"Current model 1 = exp(-k*(10 Mpc/h))\")\n",
    "    plt.plot(k,np.exp(-k*6),\":\",label=\"Current model 2 = exp(-k*(6 Mpc/h))\")\n",
    "    plt.xscale(\"log\")\n",
    "    plt.xlabel(\"k (h/Mpc)\")\n",
    "    plt.ylabel(\"F(k)\")\n",
    "    plt.legend(bbox_to_anchor=(1, 0, 1.4, 1))\n",
    "    plt.grid()\n",
    "    plt.show()"
   ]
  },
  {
   "cell_type": "code",
   "execution_count": null,
   "id": "0bac5a3b-139b-4a9e-ae43-a5ffb2388660",
   "metadata": {},
   "outputs": [],
   "source": [
    "Fvoigt"
   ]
  },
  {
   "cell_type": "code",
   "execution_count": null,
   "id": "827a2f9d-244b-490a-a2ff-587f92aeb53a",
   "metadata": {},
   "outputs": [],
   "source": [
    "print(Fvoigt.size)\n",
    "print(k.size)"
   ]
  },
  {
   "cell_type": "code",
   "execution_count": null,
   "id": "98d39c95-2d59-469f-8c1f-483c1885386e",
   "metadata": {},
   "outputs": [],
   "source": [
    "df"
   ]
  },
  {
   "cell_type": "code",
   "execution_count": null,
   "id": "078ef3aa-1e0e-4a7b-abc8-8d0b9b076fd1",
   "metadata": {},
   "outputs": [],
   "source": [
    "prob"
   ]
  },
  {
   "cell_type": "code",
   "execution_count": null,
   "id": "1c350576-23b7-4812-a4a0-297e04dcb9c0",
   "metadata": {},
   "outputs": [],
   "source": [
    "compute_dla_prob_per_nhi(np.linspace(4000,8000,500), 20, hdul1[1].data, hdul[1].data, 1)"
   ]
  },
  {
   "cell_type": "code",
   "execution_count": null,
   "id": "9776ec63-bb94-4dac-8589-8f51879b2abf",
   "metadata": {},
   "outputs": [],
   "source": [
    "import pylab\n",
    "pylab.plot(profile)"
   ]
  },
  {
   "cell_type": "code",
   "execution_count": null,
   "id": "ab6b30b1-3755-4fc9-aa6f-2897f1b968b8",
   "metadata": {},
   "outputs": [],
   "source": [
    "pylab.plot(profile_r)"
   ]
  },
  {
   "cell_type": "code",
   "execution_count": null,
   "id": "a7268599-84f8-4e0e-85e4-362d1242cc87",
   "metadata": {},
   "outputs": [],
   "source": [
    "pylab.plot(ft_profile)"
   ]
  },
  {
   "cell_type": "code",
   "execution_count": null,
   "id": "2df8c58e-251a-4cd2-ac12-1b5ef63945d3",
   "metadata": {},
   "outputs": [],
   "source": []
  }
 ],
 "metadata": {
  "kernelspec": {
   "display_name": "Vega",
   "language": "python",
   "name": "vega"
  },
  "language_info": {
   "codemirror_mode": {
    "name": "ipython",
    "version": 3
   },
   "file_extension": ".py",
   "mimetype": "text/x-python",
   "name": "python",
   "nbconvert_exporter": "python",
   "pygments_lexer": "ipython3",
   "version": "3.9.12"
  }
 },
 "nbformat": 4,
 "nbformat_minor": 5
}
